{
 "cells": [
  {
   "cell_type": "code",
   "execution_count": 4,
   "id": "66aa650d",
   "metadata": {},
   "outputs": [
    {
     "name": "stdout",
     "output_type": "stream",
     "text": [
      "hello world\n"
     ]
    }
   ],
   "source": [
    "print(\"hello world\")"
   ]
  },
  {
   "cell_type": "code",
   "execution_count": null,
   "id": "df7eaf51",
   "metadata": {},
   "outputs": [],
   "source": [
    "# Import các thư viện cần thiết\n",
    "import cv2\n",
    "import numpy as np\n",
    "import matplotlib.pyplot as plt"
   ]
  },
  {
   "cell_type": "markdown",
   "id": "ca5ba4d0",
   "metadata": {},
   "source": [
    "### Đọc và hiển thị ảnh biển số xe\n",
    "\n",
    "Hãy chắc chắn bạn đã upload một ảnh biển số vào thư mục `images/` (ví dụ: `images/sample_plate.jpg`).\n",
    "\n",
    "Chạy cell dưới đây để đọc và hiển thị ảnh đó."
   ]
  },
  {
   "cell_type": "code",
   "execution_count": null,
   "id": "ab107a94",
   "metadata": {},
   "outputs": [],
   "source": [
    "# Đọc và hiển thị ảnh biển số xe mẫu\n",
    "image_path = 'images/sample_plate.jpg'  # Đổi tên file nếu cần\n",
    "\n",
    "# Đọc ảnh bằng OpenCV (mặc định là BGR)\n",
    "image = cv2.imread(image_path)\n",
    "if image is None:\n",
    "    print(f'Không tìm thấy ảnh tại {image_path}. Hãy kiểm tra lại đường dẫn!')\n",
    "else:\n",
    "    # Chuyển sang RGB để hiển thị đúng màu với matplotlib\n",
    "    image_rgb = cv2.cvtColor(image, cv2.COLOR_BGR2RGB)\n",
    "    plt.figure(figsize=(8,4))\n",
    "    plt.imshow(image_rgb)\n",
    "    plt.axis('off')\n",
    "    plt.title('Ảnh biển số xe gốc')\n",
    "    plt.show()"
   ]
  }
 ],
 "metadata": {
  "kernelspec": {
   "display_name": ".venv",
   "language": "python",
   "name": "python3"
  },
  "language_info": {
   "codemirror_mode": {
    "name": "ipython",
    "version": 3
   },
   "file_extension": ".py",
   "mimetype": "text/x-python",
   "name": "python",
   "nbconvert_exporter": "python",
   "pygments_lexer": "ipython3",
   "version": "3.13.7"
  }
 },
 "nbformat": 4,
 "nbformat_minor": 5
}
