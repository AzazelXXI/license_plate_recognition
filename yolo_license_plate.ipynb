{
 "cells": [
  {
   "cell_type": "code",
   "execution_count": 1,
   "id": "2c24b705",
   "metadata": {},
   "outputs": [],
   "source": [
    "# Import các thư viện cần thiết\n",
    "import cv2\n",
    "import numpy as np\n",
    "import matplotlib.pyplot as plt\n",
    "from pathlib import Path\n",
    "from ultralytics import YOLO\n",
    "import torch"
   ]
  },
  {
   "cell_type": "code",
   "execution_count": null,
   "id": "901f5dd8",
   "metadata": {},
   "outputs": [],
   "source": [
    "# Tải model YOLO có sẵn (sẽ tự động download lần đầu)\n",
    "print(\"📥 Đang tải YOLOv8 nano model...\")\n",
    "model = YOLO(\"yolov8n.pt\")  # Dùng nano version cho tốc độ\n",
    "\n",
    "print(\"✅ Model đã sẵn sàng!\")\n",
    "print(f\"📊 Model có thể detect {len(model.names)} classes:\")\n",
    "\n",
    "# In ra các class model có thể detect\n",
    "for i, name in model.names.items():\n",
    "    print(f\"{i:2d}: {name}\")\n",
    "\n",
    "# Tìm class liên quan đến vehicle\n",
    "vehicle_classes = [\n",
    "    (i, name)\n",
    "    for i, name in model.names.items()\n",
    "    if any(keyword in name.lower() for keyword in [\"car\", \"truck\", \"bus\", \"motorcycle\"])\n",
    "]\n",
    "print(f\"\\n🚗 Vehicle classes: {vehicle_classes}\")"
   ]
  }
 ],
 "metadata": {
  "kernelspec": {
   "display_name": ".venv",
   "language": "python",
   "name": "python3"
  },
  "language_info": {
   "codemirror_mode": {
    "name": "ipython",
    "version": 3
   },
   "file_extension": ".py",
   "mimetype": "text/x-python",
   "name": "python",
   "nbconvert_exporter": "python",
   "pygments_lexer": "ipython3",
   "version": "3.13.7"
  }
 },
 "nbformat": 4,
 "nbformat_minor": 5
}
